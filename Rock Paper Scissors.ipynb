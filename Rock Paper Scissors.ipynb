{
 "cells": [
  {
   "cell_type": "code",
   "execution_count": 1,
   "id": "4239f5e8",
   "metadata": {},
   "outputs": [],
   "source": [
    "import random"
   ]
  },
  {
   "cell_type": "code",
   "execution_count": 15,
   "id": "be7b4810",
   "metadata": {},
   "outputs": [
    {
     "name": "stdout",
     "output_type": "stream",
     "text": [
      "What's your choice?'r' for rock, 'p' for paper, 's' for scissorsr\n",
      "You Won!\n"
     ]
    }
   ],
   "source": [
    "def play():\n",
    "    user = input(\"What's your choice?'r' for rock, 'p' for paper, 's' for scissors\")\n",
    "    computer = random.choice(['r','p', 's'])\n",
    "    \n",
    "    if user == computer:\n",
    "        return 'tie'\n",
    "    \n",
    "    if win_con(user, computer):\n",
    "        return 'You Won!'\n",
    "    \n",
    "    return 'You lost!'\n",
    "    \n",
    "    \n",
    "def win_con(player, opponent):\n",
    "    if (player == 'r' and opponent == 's') or (player == 's' and opponent == 'p') \\\n",
    "        or (player == 'p' and opponent == 'r'):\n",
    "        return True\n",
    "    \n",
    "print(play())"
   ]
  },
  {
   "cell_type": "code",
   "execution_count": null,
   "id": "1314f035",
   "metadata": {},
   "outputs": [],
   "source": []
  }
 ],
 "metadata": {
  "kernelspec": {
   "display_name": "Python 3",
   "language": "python",
   "name": "python3"
  },
  "language_info": {
   "codemirror_mode": {
    "name": "ipython",
    "version": 3
   },
   "file_extension": ".py",
   "mimetype": "text/x-python",
   "name": "python",
   "nbconvert_exporter": "python",
   "pygments_lexer": "ipython3",
   "version": "3.8.8"
  }
 },
 "nbformat": 4,
 "nbformat_minor": 5
}
