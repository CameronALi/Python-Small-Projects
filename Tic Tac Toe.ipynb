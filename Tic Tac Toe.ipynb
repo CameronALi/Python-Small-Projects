{
 "cells": [
  {
   "cell_type": "code",
   "execution_count": 1,
   "id": "33295ad1",
   "metadata": {},
   "outputs": [],
   "source": [
    "from IPython.display import clear_output\n",
    "\n",
    "\n",
    "def  display_board(board):\n",
    "    clear_output()\n",
    "    print('   |    |')\n",
    "    print(' ' + board[7] + ' |  ' + board[8] + ' |  ' + board[9])\n",
    "    print('   |    |')\n",
    "    print('------------')\n",
    "    print('   |    |')\n",
    "    print(' ' + board[4] + ' |  ' + board[5] + ' |  ' + board[6])\n",
    "    print('   |    |')\n",
    "    print('------------')\n",
    "    print('   |    |')\n",
    "    print(' ' + board[1] + ' |  ' + board[2] + ' |  ' + board[3])\n",
    "    print('   |    |')"
   ]
  },
  {
   "cell_type": "code",
   "execution_count": 2,
   "id": "bcf7ab83",
   "metadata": {},
   "outputs": [
    {
     "name": "stdout",
     "output_type": "stream",
     "text": [
      "   |    |\n",
      " X |  O |  X\n",
      "   |    |\n",
      "------------\n",
      "   |    |\n",
      " O |  X |  O\n",
      "   |    |\n",
      "------------\n",
      "   |    |\n",
      " X |  O |  X\n",
      "   |    |\n"
     ]
    }
   ],
   "source": [
    "test_board = ['#', 'X', 'O', 'X', 'O', 'X', 'O', 'X', 'O', 'X']\n",
    "display_board(test_board)"
   ]
  },
  {
   "cell_type": "code",
   "execution_count": 3,
   "id": "ccdea15d",
   "metadata": {},
   "outputs": [],
   "source": [
    "def player_input():\n",
    "    marker = ''\n",
    "\n",
    "    while marker != 'X' and marker != 'O':\n",
    "         marker = input('Player1:Choose X or O: ').upper()\n",
    "    if marker == 'X':\n",
    "        return ('X','O')\n",
    "    else:\n",
    "        return ('O','X')"
   ]
  },
  {
   "cell_type": "code",
   "execution_count": 4,
   "id": "4f1b1591",
   "metadata": {},
   "outputs": [
    {
     "name": "stdout",
     "output_type": "stream",
     "text": [
      "Player1:Choose X or O: \n",
      "Player1:Choose X or O: X\n"
     ]
    },
    {
     "data": {
      "text/plain": [
       "('X', 'O')"
      ]
     },
     "execution_count": 4,
     "metadata": {},
     "output_type": "execute_result"
    }
   ],
   "source": [
    "player_input()"
   ]
  },
  {
   "cell_type": "code",
   "execution_count": 5,
   "id": "e1b5ba9d",
   "metadata": {},
   "outputs": [],
   "source": [
    "def place_marker(board, marker, position):\n",
    "   \n",
    "    board[position] = marker\n"
   ]
  },
  {
   "cell_type": "code",
   "execution_count": 6,
   "id": "8c9c408e",
   "metadata": {},
   "outputs": [
    {
     "name": "stdout",
     "output_type": "stream",
     "text": [
      "   |    |\n",
      " X |  & |  X\n",
      "   |    |\n",
      "------------\n",
      "   |    |\n",
      " O |  X |  O\n",
      "   |    |\n",
      "------------\n",
      "   |    |\n",
      " X |  O |  X\n",
      "   |    |\n"
     ]
    }
   ],
   "source": [
    "place_marker(test_board,'&',8)\n",
    "display_board(test_board)"
   ]
  },
  {
   "cell_type": "code",
   "execution_count": 7,
   "id": "986212bd",
   "metadata": {},
   "outputs": [],
   "source": [
    "def win_check(board, mark):\n",
    "    #win tic\n",
    "    #all rows, columns, and 2 diagonals\n",
    "    \n",
    "    return ((board[1] == board[2] == board[3] == mark ) or  #horizontal\n",
    "    (board[4] == board[5] == board[6] == mark ) or  #horizontal\n",
    "    (board[7] == board[8] == board[9] == mark ) or #horizontal\n",
    "    (board[1] == board[5] == board[9] == mark ) or #diagonal\n",
    "    (board[3] == board[5] == board[7] == mark ) or #diagonal\n",
    "    (board[1] == board[4] == board[7] == mark ) or #vertical\n",
    "    (board[2] == board[5] == board[8] == mark ) or #vertical\n",
    "    (board[3] == board[6] == board[9] == mark )) #vertical"
   ]
  },
  {
   "cell_type": "code",
   "execution_count": 8,
   "id": "251b13f5",
   "metadata": {},
   "outputs": [
    {
     "name": "stdout",
     "output_type": "stream",
     "text": [
      "   |    |\n",
      " X |  & |  X\n",
      "   |    |\n",
      "------------\n",
      "   |    |\n",
      " O |  X |  O\n",
      "   |    |\n",
      "------------\n",
      "   |    |\n",
      " X |  O |  X\n",
      "   |    |\n"
     ]
    },
    {
     "data": {
      "text/plain": [
       "True"
      ]
     },
     "execution_count": 8,
     "metadata": {},
     "output_type": "execute_result"
    }
   ],
   "source": [
    "display_board(test_board)\n",
    "win_check(test_board,'X')"
   ]
  },
  {
   "cell_type": "code",
   "execution_count": 9,
   "id": "6194750e",
   "metadata": {},
   "outputs": [],
   "source": [
    "import random\n",
    "\n",
    "def choose_first():\n",
    "    flip = random.randint(0,1)\n",
    "    if flip == 0:\n",
    "        return 'Player 1'\n",
    "    else:\n",
    "        return 'Player 2'\n"
   ]
  },
  {
   "cell_type": "code",
   "execution_count": 10,
   "id": "b9d345da",
   "metadata": {},
   "outputs": [],
   "source": [
    "def space_check(board, position):\n",
    "    \n",
    "    return board[position] == ' '\n"
   ]
  },
  {
   "cell_type": "code",
   "execution_count": 11,
   "id": "ac0e29b1",
   "metadata": {},
   "outputs": [],
   "source": [
    "def full_board_check(board):\n",
    "    for i in range(1,10):\n",
    "        if space_check(board,i):\n",
    "            return False\n",
    "    #board full is true\n",
    "    return True"
   ]
  },
  {
   "cell_type": "code",
   "execution_count": 12,
   "id": "06756887",
   "metadata": {},
   "outputs": [
    {
     "data": {
      "text/plain": [
       "True"
      ]
     },
     "execution_count": 12,
     "metadata": {},
     "output_type": "execute_result"
    }
   ],
   "source": [
    "full_board_check(test_board)"
   ]
  },
  {
   "cell_type": "code",
   "execution_count": 13,
   "id": "ff8c7af1",
   "metadata": {},
   "outputs": [],
   "source": [
    "def player_choice(board):   \n",
    "    position = ' ' \n",
    "    while position not in [1,2,3,4,5,6,7,8,9] or not space_check(board,position):\n",
    "        position = int(input('Choose your next position (1-9)'))\n",
    "        \n",
    "    return position"
   ]
  },
  {
   "cell_type": "code",
   "execution_count": 14,
   "id": "9ddbbb3d",
   "metadata": {},
   "outputs": [],
   "source": [
    "def replay():\n",
    "    return input('Do you want to play again? Enter Yes or No').lower().startswith('y')"
   ]
  },
  {
   "cell_type": "code",
   "execution_count": null,
   "id": "6000f1b7",
   "metadata": {},
   "outputs": [
    {
     "name": "stdout",
     "output_type": "stream",
     "text": [
      "   |    |\n",
      " O |  X |  O\n",
      "   |    |\n",
      "------------\n",
      "   |    |\n",
      " O |  X |  X\n",
      "   |    |\n",
      "------------\n",
      "   |    |\n",
      " X |  O |  O\n",
      "   |    |\n",
      "Tie Game\n"
     ]
    }
   ],
   "source": [
    "print('Welcome to Tic Tac Toe')\n",
    "\n",
    "\n",
    "\n",
    "while True:\n",
    "    theBoard = [' ']*10\n",
    "    player1_marker, player2_marker = player_input()\n",
    "    turn = choose_first()\n",
    "    print(turn + 'will go First.')\n",
    "    \n",
    "    play_game = input('Ready to play? Y or N')\n",
    "    if play_game == 'Y':\n",
    "        game_on = True\n",
    "    else:\n",
    "        game_on = False\n",
    "    \n",
    "    while game_on:\n",
    "        if turn == 'Player 1':\n",
    "            display_board(theBoard)\n",
    "            position = player_choice(theBoard)\n",
    "            place_marker(theBoard, player1_marker, position)\n",
    "            \n",
    "            if win_check(theBoard, player1_marker):\n",
    "                print(\"Player 1 win\")\n",
    "                game_on = False\n",
    "            else:\n",
    "                if full_board_check(theBoard):\n",
    "                    display_board(theBoard)\n",
    "                    print(\"Tie Game\")\n",
    "                    break\n",
    "                else:\n",
    "                    turn = 'Player 2'\n",
    "        else:\n",
    "            display_board(theBoard)\n",
    "            position = player_choice(theBoard)\n",
    "            place_marker(theBoard, player2_marker, position)\n",
    "            \n",
    "            if win_check(theBoard, player2_marker):\n",
    "                display_board(theBoard)\n",
    "                print(\"Player 2 Win\")\n",
    "                game_on = False\n",
    "            else:\n",
    "                if full_board_check(theBoard):\n",
    "                    display_board(theBoard)\n",
    "                    print(\"Tie Game\")\n",
    "                    break\n",
    "                else:\n",
    "                    turn = 'Player 1'\n",
    "    if not replay():\n",
    "        break"
   ]
  },
  {
   "cell_type": "code",
   "execution_count": null,
   "id": "05a56b2c",
   "metadata": {},
   "outputs": [],
   "source": []
  },
  {
   "cell_type": "code",
   "execution_count": null,
   "id": "065f7484",
   "metadata": {},
   "outputs": [],
   "source": []
  }
 ],
 "metadata": {
  "kernelspec": {
   "display_name": "Python 3",
   "language": "python",
   "name": "python3"
  },
  "language_info": {
   "codemirror_mode": {
    "name": "ipython",
    "version": 3
   },
   "file_extension": ".py",
   "mimetype": "text/x-python",
   "name": "python",
   "nbconvert_exporter": "python",
   "pygments_lexer": "ipython3",
   "version": "3.8.8"
  }
 },
 "nbformat": 4,
 "nbformat_minor": 5
}
