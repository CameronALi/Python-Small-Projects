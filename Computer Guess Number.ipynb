{
 "cells": [
  {
   "cell_type": "code",
   "execution_count": 1,
   "id": "19a9a122",
   "metadata": {},
   "outputs": [],
   "source": [
    "import random"
   ]
  },
  {
   "cell_type": "code",
   "execution_count": 2,
   "id": "46c830d1",
   "metadata": {
    "collapsed": true
   },
   "outputs": [
    {
     "name": "stdout",
     "output_type": "stream",
     "text": [
      "Guess a number between 1 and 10: 2\n",
      "Sorry, guess again. Too low.\n",
      "Guess a number between 1 and 10: 3\n",
      "Sorry, guess again. Too low.\n",
      "Guess a number between 1 and 10: 4\n",
      "Sorry, guess again. Too low.\n",
      "Guess a number between 1 and 10: 7\n",
      "Sorry, guess again. Too low.\n",
      "Guess a number between 1 and 10: 10\n",
      "Sorry, guess again. Too high.\n",
      "Guess a number between 1 and 10: 8\n",
      "Sorry, guess again. Too low.\n",
      "Guess a number between 1 and 10: 9\n",
      "Yay, congrats. You have guessed the number 9 correctly!!\n"
     ]
    }
   ],
   "source": [
    "def guess(x):\n",
    "    random_number = random.randint(1, x)\n",
    "    guess = 0\n",
    "    while guess != random_number:\n",
    "        guess = int(input(f'Guess a number between 1 and {x}: '))\n",
    "        if guess < random_number:\n",
    "            print('Sorry, guess again. Too low.')\n",
    "        elif guess > random_number:\n",
    "            print('Sorry, guess again. Too high.')\n",
    "\n",
    "    print(f'Yay, congrats. You have guessed the number {random_number} correctly!!')\n",
    "\n",
    "def computer_guess(x):\n",
    "    low = 1\n",
    "    high = x\n",
    "    feedback = ''\n",
    "    while feedback != 'c':\n",
    "        if low != high:\n",
    "            guess = random.randint(low, high)\n",
    "        else:\n",
    "            guess = low  # could also be high b/c low = high\n",
    "        feedback = input(f'Is {guess} too high (H), too low (L), or correct (C)?? ').lower()\n",
    "        if feedback == 'h':\n",
    "            high = guess - 1\n",
    "        elif feedback == 'l':\n",
    "            low = guess + 1\n",
    "\n",
    "    print(f'Yay! The computer guessed your number, {guess}, correctly!')\n",
    "\n",
    "\n",
    "guess(10)"
   ]
  },
  {
   "cell_type": "code",
   "execution_count": null,
   "id": "cee7d2dc",
   "metadata": {},
   "outputs": [],
   "source": []
  }
 ],
 "metadata": {
  "kernelspec": {
   "display_name": "Python 3",
   "language": "python",
   "name": "python3"
  },
  "language_info": {
   "codemirror_mode": {
    "name": "ipython",
    "version": 3
   },
   "file_extension": ".py",
   "mimetype": "text/x-python",
   "name": "python",
   "nbconvert_exporter": "python",
   "pygments_lexer": "ipython3",
   "version": "3.8.8"
  }
 },
 "nbformat": 4,
 "nbformat_minor": 5
}
